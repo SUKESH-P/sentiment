{
 "cells": [
  {
   "cell_type": "code",
   "execution_count": 1,
   "id": "4a1ef8b0-16e5-4e68-8d65-2b31cd20b62c",
   "metadata": {},
   "outputs": [
    {
     "name": "stdout",
     "output_type": "stream",
     "text": [
      "WARNING:tensorflow:From C:\\Users\\Sukkiiii\\anaconda3\\New folder\\Lib\\site-packages\\tf_keras\\src\\losses.py:2976: The name tf.losses.sparse_softmax_cross_entropy is deprecated. Please use tf.compat.v1.losses.sparse_softmax_cross_entropy instead.\n",
      "\n",
      "WARNING:tensorflow:From C:\\Users\\Sukkiiii\\anaconda3\\New folder\\Lib\\site-packages\\tf_keras\\src\\backend.py:873: The name tf.get_default_graph is deprecated. Please use tf.compat.v1.get_default_graph instead.\n",
      "\n"
     ]
    },
    {
     "name": "stderr",
     "output_type": "stream",
     "text": [
      "WARNING:tensorflow:From C:\\Users\\Sukkiiii\\anaconda3\\New folder\\Lib\\site-packages\\tf_keras\\src\\backend.py:873: The name tf.get_default_graph is deprecated. Please use tf.compat.v1.get_default_graph instead.\n",
      "\n",
      "All PyTorch model weights were used when initializing TFBertForSequenceClassification.\n",
      "\n",
      "Some weights or buffers of the TF 2.0 model TFBertForSequenceClassification were not initialized from the PyTorch model and are newly initialized: ['classifier.weight', 'classifier.bias']\n",
      "You should probably TRAIN this model on a down-stream task to be able to use it for predictions and inference.\n"
     ]
    },
    {
     "name": "stdout",
     "output_type": "stream",
     "text": [
      "WARNING:tensorflow:From C:\\Users\\Sukkiiii\\anaconda3\\New folder\\Lib\\site-packages\\tf_keras\\src\\optimizers\\__init__.py:317: The name tf.train.Optimizer is deprecated. Please use tf.compat.v1.train.Optimizer instead.\n",
      "\n"
     ]
    },
    {
     "name": "stderr",
     "output_type": "stream",
     "text": [
      "WARNING:tensorflow:From C:\\Users\\Sukkiiii\\anaconda3\\New folder\\Lib\\site-packages\\tf_keras\\src\\optimizers\\__init__.py:317: The name tf.train.Optimizer is deprecated. Please use tf.compat.v1.train.Optimizer instead.\n",
      "\n"
     ]
    },
    {
     "name": "stdout",
     "output_type": "stream",
     "text": [
      "Epoch 1/3\n",
      "WARNING:tensorflow:From C:\\Users\\Sukkiiii\\anaconda3\\New folder\\Lib\\site-packages\\tf_keras\\src\\utils\\tf_utils.py:492: The name tf.ragged.RaggedTensorValue is deprecated. Please use tf.compat.v1.ragged.RaggedTensorValue instead.\n",
      "\n"
     ]
    },
    {
     "name": "stderr",
     "output_type": "stream",
     "text": [
      "WARNING:tensorflow:From C:\\Users\\Sukkiiii\\anaconda3\\New folder\\Lib\\site-packages\\tf_keras\\src\\utils\\tf_utils.py:492: The name tf.ragged.RaggedTensorValue is deprecated. Please use tf.compat.v1.ragged.RaggedTensorValue instead.\n",
      "\n"
     ]
    },
    {
     "name": "stdout",
     "output_type": "stream",
     "text": [
      "1563/1563 [==============================] - 15277s 10s/step - loss: 0.7047 - val_loss: 0.7245\n",
      "Epoch 2/3\n",
      "1563/1563 [==============================] - 16065s 10s/step - loss: 0.6979 - val_loss: 0.6961\n",
      "Epoch 3/3\n",
      "1563/1563 [==============================] - 16060s 10s/step - loss: 0.6963 - val_loss: 0.6959\n",
      "782/782 [==============================] - 4444s 6s/step\n",
      "Classification Report:\n",
      "              precision    recall  f1-score   support\n",
      "\n",
      "    Negative       0.50      1.00      0.67     12500\n",
      "    Positive       0.00      0.00      0.00     12500\n",
      "\n",
      "    accuracy                           0.50     25000\n",
      "   macro avg       0.25      0.50      0.33     25000\n",
      "weighted avg       0.25      0.50      0.33     25000\n",
      "\n",
      "BERT Model Training and Evaluation Complete!\n"
     ]
    },
    {
     "name": "stderr",
     "output_type": "stream",
     "text": [
      "C:\\Users\\Sukkiiii\\anaconda3\\New folder\\Lib\\site-packages\\sklearn\\metrics\\_classification.py:1531: UndefinedMetricWarning: Precision is ill-defined and being set to 0.0 in labels with no predicted samples. Use `zero_division` parameter to control this behavior.\n",
      "  _warn_prf(average, modifier, f\"{metric.capitalize()} is\", len(result))\n",
      "C:\\Users\\Sukkiiii\\anaconda3\\New folder\\Lib\\site-packages\\sklearn\\metrics\\_classification.py:1531: UndefinedMetricWarning: Precision is ill-defined and being set to 0.0 in labels with no predicted samples. Use `zero_division` parameter to control this behavior.\n",
      "  _warn_prf(average, modifier, f\"{metric.capitalize()} is\", len(result))\n",
      "C:\\Users\\Sukkiiii\\anaconda3\\New folder\\Lib\\site-packages\\sklearn\\metrics\\_classification.py:1531: UndefinedMetricWarning: Precision is ill-defined and being set to 0.0 in labels with no predicted samples. Use `zero_division` parameter to control this behavior.\n",
      "  _warn_prf(average, modifier, f\"{metric.capitalize()} is\", len(result))\n"
     ]
    },
    {
     "name": "stdout",
     "output_type": "stream",
     "text": [
      "Model and tokenizer saved to bert_sentiment_model\n"
     ]
    }
   ],
   "source": [
    "\n",
    "import tensorflow as tf\n",
    "import tensorflow_datasets as tfds\n",
    "import numpy as np\n",
    "import re\n",
    "import string\n",
    "from transformers import BertTokenizer, TFBertForSequenceClassification\n",
    "from tensorflow.keras.optimizers import Adam\n",
    "from tensorflow.keras.losses import SparseCategoricalCrossentropy\n",
    "from tensorflow.keras.metrics import SparseCategoricalAccuracy, Precision, Recall\n",
    "from sklearn.metrics import classification_report\n",
    "import os\n",
    "\n",
    "# Load IMDb dataset\n",
    "dataset, info = tfds.load(\"imdb_reviews\", as_supervised=True, with_info=True)\n",
    "train_data, test_data = dataset[\"train\"], dataset[\"test\"]\n",
    "\n",
    "# Load BERT tokenizer\n",
    "tokenizer = BertTokenizer.from_pretrained(\"bert-base-uncased\")\n",
    "\n",
    "# Preprocessing function\n",
    "def preprocess_text(text):\n",
    "    text = text.numpy().decode(\"utf-8\").lower()  # Convert to lowercase\n",
    "    text = re.sub(f\"[{string.punctuation}]\", \"\", text)  # Remove punctuation\n",
    "    return text\n",
    "\n",
    "# Prepare training and testing data\n",
    "train_texts, train_labels = [], []\n",
    "test_texts, test_labels = [], []\n",
    "\n",
    "for text, label in train_data:\n",
    "    train_texts.append(preprocess_text(text))\n",
    "    train_labels.append(label.numpy())\n",
    "\n",
    "for text, label in test_data:\n",
    "    test_texts.append(preprocess_text(text))\n",
    "    test_labels.append(label.numpy())\n",
    "\n",
    "# Tokenization and Padding\n",
    "max_length = 200\n",
    "train_encodings = tokenizer(train_texts, truncation=True, padding=True, max_length=max_length, return_tensors='tf')\n",
    "test_encodings = tokenizer(test_texts, truncation=True, padding=True, max_length=max_length, return_tensors='tf')\n",
    "\n",
    "train_input_ids = train_encodings[\"input_ids\"]\n",
    "test_input_ids = test_encodings[\"input_ids\"]\n",
    "\n",
    "train_labels = np.array(train_labels)\n",
    "test_labels = np.array(test_labels)\n",
    "\n",
    "# Load pre-trained BERT model for sequence classification\n",
    "model = TFBertForSequenceClassification.from_pretrained(\"bert-base-uncased\", num_labels=2)\n",
    "\n",
    "# Compile model\n",
    "optimizer = Adam(learning_rate=2e-5, epsilon=1e-08)\n",
    "loss = SparseCategoricalCrossentropy(from_logits=True)\n",
    "metrics = [SparseCategoricalAccuracy(name=\"accuracy\"), Precision(name=\"precision\"), Recall(name=\"recall\")]\n",
    "model.compile()\n",
    "\n",
    "# Train model\n",
    "history = model.fit(train_input_ids, train_labels, validation_data=(test_input_ids, test_labels), epochs=3, batch_size=16)\n",
    "\n",
    "# Model evaluation\n",
    "y_pred_logits = model.predict(test_input_ids).logits\n",
    "y_pred = np.argmax(y_pred_logits, axis=1)\n",
    "\n",
    "print(\"Classification Report:\")\n",
    "print(classification_report(test_labels, y_pred, target_names=[\"Negative\", \"Positive\"]))\n",
    "\n",
    "print(\"BERT Model Training and Evaluation Complete!\")\n",
    "\n",
    "# Save model and tokenizer\n",
    "save_directory = \"bert_sentiment_model\"\n",
    "os.makedirs(save_directory, exist_ok=True)\n",
    "model.save_pretrained(save_directory)\n",
    "tokenizer.save_pretrained(save_directory)\n",
    "\n",
    "print(f\"Model and tokenizer saved to {save_directory}\")\n"
   ]
  }
 ],
 "metadata": {
  "kernelspec": {
   "display_name": "Python [conda env:base] *",
   "language": "python",
   "name": "conda-base-py"
  },
  "language_info": {
   "codemirror_mode": {
    "name": "ipython",
    "version": 3
   },
   "file_extension": ".py",
   "mimetype": "text/x-python",
   "name": "python",
   "nbconvert_exporter": "python",
   "pygments_lexer": "ipython3",
   "version": "3.12.7"
  }
 },
 "nbformat": 4,
 "nbformat_minor": 5
}
